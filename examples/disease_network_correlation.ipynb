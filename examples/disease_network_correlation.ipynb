{
 "cells": [
  {
   "cell_type": "code",
   "execution_count": 1,
   "metadata": {},
   "outputs": [],
   "source": [
    "from synet.process.disease import simulate_disease, simulate_disease_start\n",
    "from synet.generators import create_temporal_network\n",
    "from synet.propagators.paint import paint_entropy\n",
    "from synet.propagators.paths import path_entropy\n",
    "from synet.propagators.mixing import mixing_entropy\n",
    "from synet.analysis import entropy_dt\n",
    "\n",
    "from collections import defaultdict\n",
    "from matplotlib import pyplot as plt\n",
    "import numpy as np\n",
    "from scipy.stats import spearmanr\n"
   ]
  },
  {
   "cell_type": "code",
   "execution_count": 2,
   "metadata": {},
   "outputs": [],
   "source": [
    "p_infected = 0.033\n",
    "n_agents = 40\n",
    "n_intern = 101\n",
    "all_p_intern = np.arange(n_intern)/(n_intern-1)\n",
    "n_events = 100000\n",
    "n_sample = 20000\n",
    "max_dt = 200\n"
   ]
  },
  {
   "cell_type": "code",
   "execution_count": 3,
   "metadata": {},
   "outputs": [],
   "source": [
    "methods = {\n",
    "    \"paint\": paint_entropy,\n",
    "    \"path\": path_entropy,\n",
    "    \"mix\": mixing_entropy,\n",
    "}\n"
   ]
  },
  {
   "cell_type": "code",
   "execution_count": 4,
   "metadata": {},
   "outputs": [
    {
     "name": "stdout",
     "output_type": "stream",
     "text": [
      "0.0\n",
      "0.01\n",
      "0.02\n",
      "0.03\n",
      "0.04\n",
      "0.05\n",
      "0.06\n",
      "0.07\n",
      "0.08\n",
      "0.09\n",
      "0.1\n",
      "0.11\n",
      "0.12\n",
      "0.13\n",
      "0.14\n",
      "0.15\n",
      "0.16\n",
      "0.17\n",
      "0.18\n",
      "0.19\n",
      "0.2\n",
      "0.21\n",
      "0.22\n",
      "0.23\n",
      "0.24\n",
      "0.25\n",
      "0.26\n",
      "0.27\n",
      "0.28\n",
      "0.29\n",
      "0.3\n",
      "0.31\n",
      "0.32\n",
      "0.33\n",
      "0.34\n",
      "0.35\n",
      "0.36\n",
      "0.37\n",
      "0.38\n",
      "0.39\n",
      "0.4\n",
      "0.41\n",
      "0.42\n",
      "0.43\n",
      "0.44\n",
      "0.45\n",
      "0.46\n",
      "0.47\n",
      "0.48\n",
      "0.49\n",
      "0.5\n",
      "0.51\n",
      "0.52\n",
      "0.53\n",
      "0.54\n",
      "0.55\n",
      "0.56\n",
      "0.57\n",
      "0.58\n",
      "0.59\n",
      "0.6\n",
      "0.61\n",
      "0.62\n",
      "0.63\n",
      "0.64\n",
      "0.65\n",
      "0.66\n",
      "0.67\n",
      "0.68\n",
      "0.69\n",
      "0.7\n",
      "0.71\n",
      "0.72\n",
      "0.73\n",
      "0.74\n",
      "0.75\n",
      "0.76\n",
      "0.77\n",
      "0.78\n",
      "0.79\n",
      "0.8\n",
      "0.81\n",
      "0.82\n",
      "0.83\n",
      "0.84\n",
      "0.85\n",
      "0.86\n",
      "0.87\n",
      "0.88\n",
      "0.89\n",
      "0.9\n",
      "0.91\n",
      "0.92\n",
      "0.93\n",
      "0.94\n",
      "0.95\n",
      "0.96\n",
      "0.97\n",
      "0.98\n",
      "0.99\n",
      "1.0\n"
     ]
    }
   ],
   "source": [
    "all_entropy_results = defaultdict(lambda: [])\n",
    "all_disease_results = []\n",
    "\n",
    "for p_intern in all_p_intern:\n",
    "    A, event_list, participants = create_temporal_network(part_per_community=n_agents//2, p_intern=p_intern,\n",
    "                                                          n_events=n_events)\n",
    "    for method_name, method_fn in methods.items():\n",
    "        res_dt = entropy_dt(A, max_dt=max_dt, entropy_game=method_fn)\n",
    "        all_entropy_results[method_name].append(np.sum(res_dt))\n",
    "\n",
    "    cur_results = np.zeros(n_events//2)\n",
    "    for _ in range(n_sample):\n",
    "        start = 1+np.random.randint(n_events//2-1)\n",
    "        end = start + n_events//2\n",
    "        cur_results += simulate_disease(participants, start, end, n_agents=n_agents, p_infected=p_infected)\n",
    "    cur_results /= n_sample*n_agents\n",
    "    all_disease_results.append(np.sum(cur_results))   \n",
    "    print(p_intern)\n"
   ]
  },
  {
   "cell_type": "code",
   "execution_count": 6,
   "metadata": {},
   "outputs": [
    {
     "data": {
      "image/png": "[encoded data removed]",
      "text/plain": [
       "<Figure size 432x288 with 1 Axes>"
      ]
     },
     "metadata": {
      "needs_background": "light"
     },
     "output_type": "display_data"
    }
   ],
   "source": [
    "for method_name, results in all_entropy_results.items():\n",
    "    res = spearmanr(all_disease_results, results).correlation\n",
    "    plt.plot(all_disease_results, results, label=f\"{method_name} ({res})\")\n",
    "plt.legend()\n",
    "plt.show()"
   ]
  },
  {
   "cell_type": "code",
   "execution_count": null,
   "metadata": {},
   "outputs": [],
   "source": []
  }
 ],
 "metadata": {
  "kernelspec": {
   "display_name": "Python 3",
   "language": "python",
   "name": "python3"
  },
  "language_info": {
   "codemirror_mode": {
    "name": "ipython",
    "version": 3
   },
   "file_extension": ".py",
   "mimetype": "text/x-python",
   "name": "python",
   "nbconvert_exporter": "python",
   "pygments_lexer": "ipython3",
   "version": "3.9.2"
  }
 },
 "nbformat": 4,
 "nbformat_minor": 4
}
