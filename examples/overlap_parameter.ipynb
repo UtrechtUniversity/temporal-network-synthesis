{
 "cells": [
  {
   "cell_type": "code",
   "execution_count": 1,
   "metadata": {},
   "outputs": [],
   "source": [
    "from synet.process.delay import simulate_delay, DelayProcess\n",
    "from synet.generators import create_temporal_network\n",
    "from synet.propagators.paint import paint_entropy\n",
    "from synet.propagators.paths import path_entropy\n",
    "from synet.propagators.mixing import mixing_entropy\n",
    "from synet.analysis import entropy_dt\n",
    "from synet.second_degree import overlap_parameter\n",
    "\n",
    "from collections import defaultdict\n",
    "from matplotlib import pyplot as plt\n",
    "import numpy as np\n",
    "from scipy.stats import spearmanr\n"
   ]
  },
  {
   "cell_type": "code",
   "execution_count": 2,
   "metadata": {},
   "outputs": [],
   "source": [
    "p_delay = 0.033\n",
    "all_p_delay = [0, 0.01, 0.02, 0.03, 0.04, 0.05]\n",
    "all_n_agents = [20, 40, 60, 120]\n",
    "n_agents = 40\n",
    "n_intern = 101\n",
    "p_intern = 0\n",
    "#all_p_intern = np.arange(n_intern)/(n_intern-1)\n",
    "n_events = 10000\n",
    "n_sample = 10\n",
    "max_dt = 200\n"
   ]
  },
  {
   "cell_type": "code",
   "execution_count": 4,
   "metadata": {},
   "outputs": [
    {
     "data": {
      "image/png": "[encoded data removed]",
      "text/plain": [
       "<Figure size 432x288 with 1 Axes>"
      ]
     },
     "metadata": {
      "needs_background": "light"
     },
     "output_type": "display_data"
    }
   ],
   "source": [
    "all_jobs = []\n",
    "all_results = []\n",
    "for n_agents in all_n_agents:\n",
    "    A, event_list, participants = create_temporal_network(\n",
    "    part_per_community=n_agents//2, p_intern=p_intern, n_events=n_events)\n",
    "    all_results.append(np.mean(overlap_parameter(participants, 1, n_events)))\n",
    "plt.plot(all_n_agents, all_results)\n",
    "plt.show()"
   ]
  },
  {
   "cell_type": "code",
   "execution_count": null,
   "metadata": {},
   "outputs": [],
   "source": [
    "results = DelayProcess.run_jobs(all_jobs)"
   ]
  },
  {
   "cell_type": "code",
   "execution_count": null,
   "metadata": {},
   "outputs": [],
   "source": [
    "plot_results = {}\n",
    "for n_agents in all_n_agents:\n",
    "    plot_results[n_agents] = np.zeros(len(all_p_delay))\n",
    "\n",
    "for res in results:\n",
    "    cur_result = np.mean(res[1])\n",
    "    n_agents = res[0][\"sim_args\"][3]\n",
    "    p_delay = res[0][\"kwargs\"][\"p_delay\"]\n",
    "    i_p_delay = all_p_delay.index(p_delay)\n",
    "    plot_results[n_agents][i_p_delay] += cur_result/n_sample"
   ]
  },
  {
   "cell_type": "code",
   "execution_count": null,
   "metadata": {},
   "outputs": [],
   "source": [
    "for n_agents, res in plot_results.items():\n",
    "    plt.plot(all_p_delay, res, label=n_agents)\n",
    "plt.legend()\n",
    "plt.show()"
   ]
  },
  {
   "cell_type": "code",
   "execution_count": null,
   "metadata": {},
   "outputs": [],
   "source": [
    "methods = {\n",
    "    \"paint\": paint_entropy,\n",
    "    \"path\": path_entropy,\n",
    "    \"mix\": mixing_entropy,\n",
    "}\n"
   ]
  },
  {
   "cell_type": "code",
   "execution_count": null,
   "metadata": {},
   "outputs": [],
   "source": [
    "all_entropy_results = defaultdict(lambda: [])\n",
    "all_disease_results = []\n",
    "\n",
    "for p_intern in all_p_intern:\n",
    "    A, event_list, participants = create_temporal_network(part_per_community=n_agents//2, p_intern=p_intern,\n",
    "                                                          n_events=n_events)\n",
    "    for method_name, method_fn in methods.items():\n",
    "        res_dt = entropy_dt(A, max_dt=max_dt, entropy_game=method_fn)\n",
    "        all_entropy_results[method_name].append(np.sum(res_dt))\n",
    "\n",
    "    cur_results = np.zeros(n_events//2)\n",
    "    for _ in range(n_sample):\n",
    "        start = 1+np.random.randint(n_events//2-1)\n",
    "        end = start + n_events//2\n",
    "        cur_results += simulate_disease(participants, start, end, n_agents=n_agents, p_infected=p_infected)\n",
    "    cur_results /= n_sample*n_agents\n",
    "    all_disease_results.append(np.sum(cur_results))   \n",
    "    print(p_intern)\n"
   ]
  },
  {
   "cell_type": "code",
   "execution_count": null,
   "metadata": {},
   "outputs": [],
   "source": [
    "for method_name, results in all_entropy_results.items():\n",
    "    res = spearmanr(all_disease_results, results).correlation\n",
    "    plt.plot(all_disease_results, results, label=f\"{method_name} ({res})\")\n",
    "plt.legend()\n",
    "plt.show()"
   ]
  },
  {
   "cell_type": "code",
   "execution_count": null,
   "metadata": {},
   "outputs": [],
   "source": []
  }
 ],
 "metadata": {
  "kernelspec": {
   "display_name": "Python 3",
   "language": "python",
   "name": "python3"
  },
  "language_info": {
   "codemirror_mode": {
    "name": "ipython",
    "version": 3
   },
   "file_extension": ".py",
   "mimetype": "text/x-python",
   "name": "python",
   "nbconvert_exporter": "python",
   "pygments_lexer": "ipython3",
   "version": "3.9.2"
  }
 },
 "nbformat": 4,
 "nbformat_minor": 4
}
