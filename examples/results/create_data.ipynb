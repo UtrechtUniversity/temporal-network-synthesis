{
 "cells": [
  {
   "cell_type": "code",
   "execution_count": 1,
   "metadata": {},
   "outputs": [],
   "source": [
    "from synet.networks import random_network\n",
    "from synet.process import DelayProcess, DiseaseProcess, MajorityProcess, PredatorProcess\n",
    "from synet.utils import apply_process, apply_measures\n",
    "from pathlib import Path\n",
    "import numpy as np\n",
    "import pickle"
   ]
  },
  {
   "cell_type": "code",
   "execution_count": 2,
   "metadata": {},
   "outputs": [],
   "source": [
    "n_events = 5000\n",
    "n_agents = 100\n",
    "n_communities = [1, 2, 3 ,4]\n",
    "n_networks = 300\n",
    "process_dt = 250\n",
    "measure_dt = 100\n",
    "n_jobs = 32"
   ]
  },
  {
   "cell_type": "code",
   "execution_count": 3,
   "metadata": {},
   "outputs": [],
   "source": [
    "base_dir = Path(\"data\")\n",
    "base_dir.mkdir(exist_ok=True)"
   ]
  },
  {
   "cell_type": "code",
   "execution_count": 4,
   "metadata": {
    "scrolled": true
   },
   "outputs": [
    {
     "name": "stdout",
     "output_type": "stream",
     "text": [
      "CPU times: user 13.4 ms, sys: 102 ms, total: 115 ms\n",
      "Wall time: 158 ms\n"
     ]
    }
   ],
   "source": [
    "%%time\n",
    "np.random.seed(1928374)\n",
    "all_seeds = np.random.randint(0, 817934861, size=len(n_communities))\n",
    "all_netsets = {}\n",
    "for i_net, cur_comm in enumerate(n_communities):\n",
    "    np.random.seed(all_seeds[i_net])\n",
    "    name = f\"a{n_agents}_e{n_events}_c{cur_comm}\"\n",
    "    net_fp = Path(base_dir, f\"net_{name}.pkl\")\n",
    "    if net_fp.is_file():\n",
    "        with open(net_fp, \"rb\") as f:\n",
    "            all_netsets[name] = pickle.load(f)\n",
    "        continue\n",
    "    networks = [random_network(n_agents=n_agents, n_events=n_events, n_community=cur_comm)\n",
    "                for _ in range(n_networks)]\n",
    "    all_netsets[name] = networks\n",
    "    with open(net_fp, \"wb\") as f:\n",
    "        pickle.dump(networks, f)"
   ]
  },
  {
   "cell_type": "code",
   "execution_count": 5,
   "metadata": {},
   "outputs": [],
   "source": [
    "processes = {\n",
    "    \"delay\": {\"process\": DelayProcess(), \"n_sim\": 1000, \"n_jobs\": n_jobs},\n",
    "    \"majority\": {\"process\": MajorityProcess(), \"n_sim\": 200, \"n_jobs\": n_jobs},\n",
    "    \"disease\": {\"process\": DiseaseProcess(), \"n_sim\": 500, \"n_jobs\": n_jobs},\n",
    "    \"predator\": {\"process\": PredatorProcess(), \"n_sim\": 1000, \"n_jobs\": n_jobs},\n",
    "}"
   ]
  },
  {
   "cell_type": "code",
   "execution_count": 6,
   "metadata": {},
   "outputs": [
    {
     "name": "stdout",
     "output_type": "stream",
     "text": [
      "CPU times: user 33.8 ms, sys: 1.92 s, total: 1.95 s\n",
      "Wall time: 2.91 s\n"
     ]
    }
   ],
   "source": [
    "%%time\n",
    "\n",
    "all_process_results = {}\n",
    "for name, networks in all_netsets.items():\n",
    "    process_fp = Path(base_dir, f\"proc_{name}.pkl\")\n",
    "    try:\n",
    "        with open(process_fp, \"rb\") as f:\n",
    "            all_process_results[name] = pickle.load(f)\n",
    "        continue\n",
    "    except BaseException:\n",
    "        pass\n",
    "\n",
    "    process_results = {}\n",
    "    for name, process_args in processes.items():\n",
    "        res = apply_process(networks, dt=process_dt, **process_args)\n",
    "        process_results[name] = res\n",
    "\n",
    "    with open(process_fp, \"wb\") as f:\n",
    "        pickle.dump(process_results, f)\n",
    "    process_results[name] = process_results\n"
   ]
  },
  {
   "cell_type": "code",
   "execution_count": 7,
   "metadata": {},
   "outputs": [
    {
     "name": "stdout",
     "output_type": "stream",
     "text": [
      "CPU times: user 10.5 ms, sys: 0 ns, total: 10.5 ms\n",
      "Wall time: 13.7 ms\n"
     ]
    }
   ],
   "source": [
    "%%time\n",
    "\n",
    "all_measure_results = {}\n",
    "for name, networks in all_netsets.items():\n",
    "    measure_fp = Path(base_dir, f\"meas_{name}.pkl\")\n",
    "    try:\n",
    "        with open(measure_fp, \"rb\") as f:\n",
    "            all_measure_results[name] = pickle.load(f)\n",
    "        continue\n",
    "    except BaseException:\n",
    "        pass\n",
    "    measure_results = apply_measures(networks, max_dt=measure_dt, n_jobs=n_jobs)\n",
    "    with open(measure_fp, \"wb\") as f:\n",
    "        pickle.dump(measure_results, f)\n",
    "    all_measure_results[name] = measure_results"
   ]
  },
  {
   "cell_type": "code",
   "execution_count": 9,
   "metadata": {
    "scrolled": false
   },
   "outputs": [],
   "source": [
    "#from synet.visualization import plot_process_results\n",
    "#\n",
    "#for net_name, process_results in all_process_results.items():\n",
    "#    plot_process_results(process_results, title=net_name)"
   ]
  },
  {
   "cell_type": "code",
   "execution_count": 51,
   "metadata": {},
   "outputs": [
    {
     "data": {
      "image/png": "[encoded data removed]",
      "text/plain": [
       "<Figure size 432x288 with 1 Axes>"
      ]
     },
     "metadata": {
      "needs_background": "light"
     },
     "output_type": "display_data"
    },
    {
     "data": {
      "image/png": "[encoded data removed]",
      "text/plain": [
       "<Figure size 432x288 with 1 Axes>"
      ]
     },
     "metadata": {
      "needs_background": "light"
     },
     "output_type": "display_data"
    },
    {
     "data": {
      "image/png": "[encoded data removed]",
      "text/plain": [
       "<Figure size 432x288 with 1 Axes>"
      ]
     },
     "metadata": {
      "needs_background": "light"
     },
     "output_type": "display_data"
    },
    {
     "data": {
      "image/png": "[encoded data removed]",
      "text/plain": [
       "<Figure size 432x288 with 1 Axes>"
      ]
     },
     "metadata": {
      "needs_background": "light"
     },
     "output_type": "display_data"
    }
   ],
   "source": [
    "import pandas as pd\n",
    "from scipy.stats import spearmanr\n",
    "from matplotlib import pyplot as plt\n",
    "from collections import defaultdict\n",
    "def create_avg_results(process_results, measure_results):\n",
    "    df = pd.DataFrame()\n",
    "    n_network = len(process_results[list(process_results)[0]])\n",
    "    df['net_id'] = np.arange(n_network)\n",
    "    for name, res in process_results.items():\n",
    "        cur_avg = np.array([np.mean(r) for r in res])\n",
    "        df[name] = cur_avg\n",
    "    for name, res in measure_results.items():\n",
    "        df[name] = [np.mean(r) for r in res]\n",
    "        \n",
    "\n",
    "    return df\n",
    "\n",
    "\n",
    "def add_best_results(df):\n",
    "    df.drop(\"avg_order\", errors=\"ignore\")\n",
    "    avg = np.zeros(len(df))\n",
    "    for pr_name in list(df)[1:5]:\n",
    "        order = np.argsort(df[pr_name].values)\n",
    "        true_order = np.empty_like(order, dtype=int)\n",
    "        true_order[order] = np.arange(len(order), dtype=int)\n",
    "\n",
    "        avg += true_order\n",
    "\n",
    "    new_order = avg/4\n",
    "    df[\"avg_order\"] = new_order\n",
    "    return df\n",
    "\n",
    "\n",
    "def create_cor_matrix(df):\n",
    "    n_list = len(list(df))\n",
    "\n",
    "    cor_matrix = np.zeros((n_list, n_list))\n",
    "    for i_1, name_1 in enumerate(list(df)):\n",
    "        for i_2, name_2 in enumerate(list(df)):\n",
    "            cor_matrix[i_1, i_2] = spearmanr(df[name_1], df[name_2]).correlation\n",
    "    return cor_matrix\n",
    "\n",
    "\n",
    "def avg_measure_cor(cor_matrix, names):\n",
    "    # measures\n",
    "    res = {}\n",
    "    for col in range(5, len(names)):\n",
    "        avg = np.mean(cor_matrix[col, 1:5])\n",
    "        res[names[col]] = avg\n",
    "    return res\n",
    "\n",
    "def avg_process_cor(cor_matrix, names):\n",
    "    # processes\n",
    "    res = {}\n",
    "    for col in range(1, 5):\n",
    "        avg = (np.sum(cor_matrix[col, 1:5])-1)/3\n",
    "        res[names[col]] = avg\n",
    "    return res\n",
    "\n",
    "proc_avg_res = defaultdict(lambda: 0)\n",
    "meas_avg_res = defaultdict(lambda: 0)\n",
    "all_df = []\n",
    "for name in all_netsets:\n",
    "    df = create_avg_results(all_process_results[name], all_measure_results[name])\n",
    "    df = add_best_results(df)\n",
    "    cor_matrix = create_cor_matrix(df)\n",
    "    proc_res = avg_process_cor(cor_matrix, list(df))\n",
    "    meas_res = avg_measure_cor(cor_matrix, list(df))\n",
    "    for proc_name, cur_res in proc_res.items():\n",
    "        proc_avg_res[proc_name] += cur_res/len(all_netsets)\n",
    "    for meas_name, cur_res in meas_res.items():\n",
    "        meas_avg_res[meas_name] += cur_res/len(all_netsets)\n",
    "    all_df.append(df)\n",
    "    plt.imshow(cor_matrix)\n",
    "    plt.show()"
   ]
  },
  {
   "cell_type": "code",
   "execution_count": 55,
   "metadata": {},
   "outputs": [
    {
     "name": "stdout",
     "output_type": "stream",
     "text": [
      "{'delay': 0.6941810464560717,\n",
      " 'disease': 0.6327635121871724,\n",
      " 'majority': 0.2542810105297466,\n",
      " 'predator': 0.611994429567736}\n",
      "{'agent': 0.6681058678429761,\n",
      " 'avg_order': 0.8030678145989916,\n",
      " 'mixing': 0.7609385937621529,\n",
      " 'overlap': 0.6544256325070279,\n",
      " 'paint': 0.7737762086245401,\n",
      " 'path': 0.7604385048722763}\n"
     ]
    }
   ],
   "source": [
    "from pprint import pprint\n",
    "pprint(dict(proc_avg_res))\n",
    "pprint(dict(meas_avg_res))"
   ]
  },
  {
   "cell_type": "code",
   "execution_count": 56,
   "metadata": {},
   "outputs": [
    {
     "name": "stdout",
     "output_type": "stream",
     "text": [
      "{'delay': 0.761824536963594,\n",
      " 'disease': 0.6829550460901537,\n",
      " 'majority': 0.34548410822841075,\n",
      " 'predator': 0.6696616745198666}\n",
      "{'agent': 0.7064595678329151,\n",
      " 'avg_order': 0.8428351957629521,\n",
      " 'mixing': 0.8149011413005028,\n",
      " 'overlap': 0.7119343786039983,\n",
      " 'paint': 0.820171330762422,\n",
      " 'path': 0.8065831416554476}\n"
     ]
    }
   ],
   "source": [
    "combined_df = pd.concat(all_df)\n",
    "combined_df = add_best_results(combined_df)\n",
    "cor_matrix = create_cor_matrix(combined_df)\n",
    "proc_res = avg_process_cor(cor_matrix, list(combined_df))\n",
    "meas_res = avg_measure_cor(cor_matrix, list(combined_df))\n",
    "pprint(proc_res)\n",
    "pprint(meas_res)"
   ]
  },
  {
   "cell_type": "code",
   "execution_count": null,
   "metadata": {},
   "outputs": [],
   "source": []
  }
 ],
 "metadata": {
  "kernelspec": {
   "display_name": "Python 3",
   "language": "python",
   "name": "python3"
  },
  "language_info": {
   "codemirror_mode": {
    "name": "ipython",
    "version": 3
   },
   "file_extension": ".py",
   "mimetype": "text/x-python",
   "name": "python",
   "nbconvert_exporter": "python",
   "pygments_lexer": "ipython3",
   "version": "3.9.2"
  }
 },
 "nbformat": 4,
 "nbformat_minor": 4
}
