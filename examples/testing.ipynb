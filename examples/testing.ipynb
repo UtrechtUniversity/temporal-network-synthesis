{
 "cells": [
  {
   "cell_type": "code",
   "execution_count": 1,
   "metadata": {},
   "outputs": [],
   "source": [
    "from matplotlib import pyplot as plt\n",
    "import numpy as np\n",
    "from scipy.stats import kruskal, sem\n",
    "\n",
    "from synet.generators import create_temporal_network\n",
    "from synet.propagators.paint import paint_entropy\n",
    "from synet.propagators.paths import path_entropy\n",
    "from synet.propagators.mixing import mixing_entropy\n",
    "from synet.analysis import entropy_windows\n",
    "from synet.visualization import plot_entropy_game"
   ]
  },
  {
   "cell_type": "code",
   "execution_count": 2,
   "metadata": {},
   "outputs": [],
   "source": [
    "np.random.seed(1872631)\n",
    "n_events=2000\n",
    "dt = 10\n",
    "n_sample=10"
   ]
  },
  {
   "cell_type": "code",
   "execution_count": 3,
   "metadata": {},
   "outputs": [
    {
     "name": "stderr",
     "output_type": "stream",
     "text": [
      "/home/qubix/Documents/shared_work/network/temporal-network-synthesis/synet/analysis.py:42: RuntimeWarning: invalid value encountered in true_divide\n",
      "  return results/counts\n",
      "/home/qubix/Documents/shared_work/network/temporal-network-synthesis/synet/analysis.py:42: RuntimeWarning: invalid value encountered in true_divide\n",
      "  return results/counts\n"
     ]
    }
   ],
   "source": [
    "all_rate_intern = [10, 20, 50, 100]\n",
    "path_kruskal = []\n",
    "mix_kruskal = []\n",
    "path_error = []\n",
    "mix_error = []\n",
    "\n",
    "for rate_intern in all_rate_intern:\n",
    "    cur_d_mix = []\n",
    "    cur_d_path = []\n",
    "    for _ in range(n_sample):\n",
    "        A, event_list, event_participants = create_temporal_network(n_events=n_events, rate_intern=rate_intern)\n",
    "\n",
    "        eq_start = n_events//10\n",
    "        eq_end = 9*n_events//10\n",
    "\n",
    "        close_mixing = np.zeros(n_events, dtype=int)\n",
    "        for event in event_list[2]:\n",
    "            start = max(0, event - dt//2)\n",
    "            end = min(n_events-1, event + dt//2)\n",
    "            close_mixing[start:end] = 1\n",
    "        close_mixing[:eq_start] = -1\n",
    "        close_mixing[eq_end:] = -1\n",
    "        mix_idx = np.where(close_mixing == 1)[0]\n",
    "        separate_idx = np.where(close_mixing == 0)[0]\n",
    "\n",
    "\n",
    "        paint_t = entropy_windows(A, dt=dt, entropy_game=paint_entropy)\n",
    "        path_t = entropy_windows(A, dt=dt, entropy_game=path_entropy)\n",
    "        mixing_t = entropy_windows(A, dt=dt, entropy_game=mixing_entropy)\n",
    "\n",
    "        cur_paint = kruskal(\n",
    "            paint_t[mix_idx], paint_t[separate_idx], nan_policy=\"omit\"\n",
    "        ).statistic\n",
    "        cur_path = kruskal(\n",
    "            path_t[mix_idx], path_t[separate_idx], nan_policy=\"omit\"\n",
    "        ).statistic\n",
    "        cur_mix = kruskal(\n",
    "            mixing_t[mix_idx], mixing_t[separate_idx], nan_policy=\"omit\"\n",
    "        ).statistic\n",
    "\n",
    "        cur_d_mix.append(cur_mix - cur_paint)\n",
    "        cur_d_path.append(cur_path - cur_paint)\n",
    "    path_kruskal.append(np.mean(cur_d_path))\n",
    "    mix_kruskal.append(np.mean(cur_d_mix))\n",
    "    path_error.append(sem(cur_d_path))\n",
    "    mix_error.append(sem(cur_d_mix))\n",
    "    \n",
    "        "
   ]
  },
  {
   "cell_type": "code",
   "execution_count": 7,
   "metadata": {},
   "outputs": [
    {
     "data": {
      "image/png": "[encoded data removed]",
      "text/plain": [
       "<Figure size 432x288 with 1 Axes>"
      ]
     },
     "metadata": {
      "needs_background": "light"
     },
     "output_type": "display_data"
    }
   ],
   "source": [
    "plt.errorbar(all_rate_intern, mix_kruskal, mix_error, label=\"mixing\")\n",
    "plt.errorbar(all_rate_intern, path_kruskal, path_error, label=\"path\")\n",
    "plt.legend()\n",
    "plt.show()\n"
   ]
  },
  {
   "cell_type": "code",
   "execution_count": 5,
   "metadata": {},
   "outputs": [
    {
     "ename": "NameError",
     "evalue": "name 'path_results' is not defined",
     "output_type": "error",
     "traceback": [
      "\u001b[0;31m---------------------------------------------------------------------------\u001b[0m",
      "\u001b[0;31mNameError\u001b[0m                                 Traceback (most recent call last)",
      "\u001b[0;32m<ipython-input-5-00a41a913d2a>\u001b[0m in \u001b[0;36m<module>\u001b[0;34m\u001b[0m\n\u001b[1;32m      1\u001b[0m \u001b[0mplt\u001b[0m\u001b[0;34m.\u001b[0m\u001b[0mfigure\u001b[0m\u001b[0;34m(\u001b[0m\u001b[0mdpi\u001b[0m\u001b[0;34m=\u001b[0m\u001b[0;36m150\u001b[0m\u001b[0;34m)\u001b[0m\u001b[0;34m\u001b[0m\u001b[0;34m\u001b[0m\u001b[0m\n\u001b[0;32m----> 2\u001b[0;31m \u001b[0mplot_entropy_game\u001b[0m\u001b[0;34m(\u001b[0m\u001b[0mpath_results\u001b[0m\u001b[0;34m,\u001b[0m \u001b[0mpaint_results\u001b[0m\u001b[0;34m,\u001b[0m \u001b[0mmixing_results\u001b[0m\u001b[0;34m,\u001b[0m \u001b[0mevents\u001b[0m\u001b[0;34m=\u001b[0m\u001b[0mevent_list\u001b[0m\u001b[0;34m[\u001b[0m\u001b[0;36m2\u001b[0m\u001b[0;34m]\u001b[0m\u001b[0;34m)\u001b[0m\u001b[0;34m\u001b[0m\u001b[0;34m\u001b[0m\u001b[0m\n\u001b[0m",
      "\u001b[0;31mNameError\u001b[0m: name 'path_results' is not defined"
     ]
    },
    {
     "data": {
      "text/plain": [
       "<Figure size 900x600 with 0 Axes>"
      ]
     },
     "metadata": {},
     "output_type": "display_data"
    }
   ],
   "source": [
    "plt.figure(dpi=150)\n",
    "plot_entropy_game(path_results, paint_results, mixing_results, events=event_list[2])\n"
   ]
  },
  {
   "cell_type": "code",
   "execution_count": null,
   "metadata": {},
   "outputs": [],
   "source": [
    "paint = paint_entropy(A, start=20, end=40)\n",
    "path = path_entropy(A, start=20, end=40)\n",
    "mixing = mixing_entropy(A, start=20, end=40)"
   ]
  },
  {
   "cell_type": "code",
   "execution_count": null,
   "metadata": {},
   "outputs": [],
   "source": [
    "plt.plot(paint)\n",
    "plt.plot(mixing)"
   ]
  },
  {
   "cell_type": "code",
   "execution_count": null,
   "metadata": {},
   "outputs": [],
   "source": []
  }
 ],
 "metadata": {
  "kernelspec": {
   "display_name": "Python 3",
   "language": "python",
   "name": "python3"
  },
  "language_info": {
   "codemirror_mode": {
    "name": "ipython",
    "version": 3
   },
   "file_extension": ".py",
   "mimetype": "text/x-python",
   "name": "python",
   "nbconvert_exporter": "python",
   "pygments_lexer": "ipython3",
   "version": "3.9.1"
  }
 },
 "nbformat": 4,
 "nbformat_minor": 4
}
